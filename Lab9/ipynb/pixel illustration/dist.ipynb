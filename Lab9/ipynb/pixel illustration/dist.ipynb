{
 "cells": [
  {
   "cell_type": "code",
   "execution_count": 1,
   "metadata": {},
   "outputs": [],
   "source": [
    "from skimage.metrics import peak_signal_noise_ratio as psnr\n",
    "from skimage.metrics import structural_similarity as ssim\n",
    "from PIL import Image\n",
    "import numpy as np\n",
    "import os\n",
    "import pandas as pd\n",
    "import math\n",
    "def calculate_metrics(real_dir, generated_dir, output_psnr_csv, output_ssim_csv):\n",
    "    # 이미지 파일 목록 가져오기\n",
    "    real_images = sorted([f for f in os.listdir(real_dir) if f.lower().endswith(('.png', '.jpg', '.jpeg', '.bmp', 'webp'))])\n",
    "    generated_images = sorted([f for f in os.listdir(generated_dir) if f.lower().endswith(('.png', '.jpg', '.jpeg', '.bmp', '.tiff'))])\n",
    "\n",
    "    \n",
    "\n",
    "    # 결과를 저장할 리스트 초기화\n",
    "    psnr_results = []\n",
    "    ssim_results = []\n",
    "    for gen in generated_images:\n",
    "        for real in real_images:\n",
    "            real_path = os.path.join(real_dir, real)\n",
    "            gen_path = os.path.join(generated_dir, gen)\n",
    "\n",
    "            try:\n",
    "            # 이미지 열기\n",
    "                real_image = Image.open(real_path).convert('RGB')\n",
    "                gen_image = Image.open(gen_path).convert('RGB')\n",
    "\n",
    "            # 이미지 크기 맞추기 (필요 시)\n",
    "                if real_image.size != gen_image.size:\n",
    "                    gen_image = gen_image.resize(real_image.size)\n",
    "\n",
    "            # NumPy 배열로 변환\n",
    "                real_np = np.array(real_image)\n",
    "                gen_np = np.array(gen_image)\n",
    "\n",
    "            # PSNR 계산\n",
    "                psnr_value = round(psnr(real_np, gen_np, data_range=gen_np.max() - gen_np.min()),3)\n",
    "                psnr_results.append({'gen_image' : gen,'real_image': real,'psnr': psnr_value})\n",
    "\n",
    "            # SSIM 계산 (채널별 평균)\n",
    "                ssim_value = round(ssim(real_np, gen_np, channel_axis=2),3)\n",
    "                ssim_results.append({'gen_image' : gen,'real_image': real,'ssim': ssim_value})\n",
    "\n",
    "                #print(f\"{img_name} - PSNR: {psnr_value:.2f}, SSIM: {ssim_value:.4f}\")\n",
    "\n",
    "            except Exception as e:\n",
    "                print(f\" 오류 발생: {e}\")\n",
    "\n",
    "    # DataFrame으로 변환\n",
    "    df_psnr = pd.DataFrame(psnr_results).pivot(index='gen_image', columns='real_image', values='psnr')\n",
    "    df_ssim = pd.DataFrame(ssim_results).pivot(index='gen_image', columns='real_image', values='ssim')\n",
    "\n",
    "    # CSV 파일로 저장\n",
    "    df_psnr.to_csv(output_psnr_csv, encoding='utf-8-sig')\n",
    "    df_ssim.to_csv(output_ssim_csv, encoding='utf-8-sig')\n",
    "\n",
    "    print(f\"PSNR 결과가 '{output_psnr_csv}'에 저장되었습니다.\")\n",
    "    print(f\"SSIM 결과가 '{output_ssim_csv}'에 저장되었습니다.\")\n",
    "\n",
    "    return df_psnr,df_ssim"
   ]
  },
  {
   "cell_type": "code",
   "execution_count": 2,
   "metadata": {},
   "outputs": [
    {
     "name": "stdout",
     "output_type": "stream",
     "text": [
      "PSNR 결과가 'psnr.csv'에 저장되었습니다.\n",
      "SSIM 결과가 'ssim.csv'에 저장되었습니다.\n"
     ]
    }
   ],
   "source": [
    "df_psnr, df_ssim = calculate_metrics('./real_images', './images_split', 'psnr.csv', 'ssim.csv')"
   ]
  },
  {
   "cell_type": "code",
   "execution_count": 3,
   "metadata": {},
   "outputs": [],
   "source": [
    "df_psnr_reset = pd.read_csv('psnr.csv',index_col='gen_image').reset_index()\n",
    "df_ssim_reset = pd.read_csv('ssim.csv',index_col='gen_image').reset_index()"
   ]
  },
  {
   "cell_type": "code",
   "execution_count": 4,
   "metadata": {},
   "outputs": [],
   "source": [
    "df_psnr_reset['Group_gen'] = df_psnr_reset['gen_image'].str[:-10]\n",
    "df_ssim_reset['Group_gen'] = df_ssim_reset['gen_image'].str[:-10]"
   ]
  },
  {
   "cell_type": "code",
   "execution_count": 5,
   "metadata": {},
   "outputs": [
    {
     "data": {
      "text/html": [
       "<div>\n",
       "<style scoped>\n",
       "    .dataframe tbody tr th:only-of-type {\n",
       "        vertical-align: middle;\n",
       "    }\n",
       "\n",
       "    .dataframe tbody tr th {\n",
       "        vertical-align: top;\n",
       "    }\n",
       "\n",
       "    .dataframe thead th {\n",
       "        text-align: right;\n",
       "    }\n",
       "</style>\n",
       "<table border=\"1\" class=\"dataframe\">\n",
       "  <thead>\n",
       "    <tr style=\"text-align: right;\">\n",
       "      <th></th>\n",
       "      <th>gen_image</th>\n",
       "      <th>image1.jpg</th>\n",
       "      <th>image2.png</th>\n",
       "      <th>image3.jpeg</th>\n",
       "      <th>image4.jpg</th>\n",
       "      <th>image5.jpg</th>\n",
       "      <th>Group_gen</th>\n",
       "    </tr>\n",
       "  </thead>\n",
       "  <tbody>\n",
       "    <tr>\n",
       "      <th>0</th>\n",
       "      <td>cat0_part1.png</td>\n",
       "      <td>0.215</td>\n",
       "      <td>0.048</td>\n",
       "      <td>0.190</td>\n",
       "      <td>0.222</td>\n",
       "      <td>0.225</td>\n",
       "      <td>cat0</td>\n",
       "    </tr>\n",
       "    <tr>\n",
       "      <th>1</th>\n",
       "      <td>cat0_part2.png</td>\n",
       "      <td>0.101</td>\n",
       "      <td>0.083</td>\n",
       "      <td>0.099</td>\n",
       "      <td>0.112</td>\n",
       "      <td>0.096</td>\n",
       "      <td>cat0</td>\n",
       "    </tr>\n",
       "    <tr>\n",
       "      <th>2</th>\n",
       "      <td>cat0_part3.png</td>\n",
       "      <td>0.085</td>\n",
       "      <td>0.020</td>\n",
       "      <td>0.080</td>\n",
       "      <td>0.089</td>\n",
       "      <td>0.087</td>\n",
       "      <td>cat0</td>\n",
       "    </tr>\n",
       "    <tr>\n",
       "      <th>3</th>\n",
       "      <td>cat100_part1.png</td>\n",
       "      <td>0.075</td>\n",
       "      <td>0.014</td>\n",
       "      <td>0.067</td>\n",
       "      <td>0.079</td>\n",
       "      <td>0.072</td>\n",
       "      <td>cat100</td>\n",
       "    </tr>\n",
       "    <tr>\n",
       "      <th>4</th>\n",
       "      <td>cat100_part2.png</td>\n",
       "      <td>0.238</td>\n",
       "      <td>0.025</td>\n",
       "      <td>0.212</td>\n",
       "      <td>0.239</td>\n",
       "      <td>0.228</td>\n",
       "      <td>cat100</td>\n",
       "    </tr>\n",
       "  </tbody>\n",
       "</table>\n",
       "</div>"
      ],
      "text/plain": [
       "          gen_image  image1.jpg  image2.png  image3.jpeg  image4.jpg  \\\n",
       "0    cat0_part1.png       0.215       0.048        0.190       0.222   \n",
       "1    cat0_part2.png       0.101       0.083        0.099       0.112   \n",
       "2    cat0_part3.png       0.085       0.020        0.080       0.089   \n",
       "3  cat100_part1.png       0.075       0.014        0.067       0.079   \n",
       "4  cat100_part2.png       0.238       0.025        0.212       0.239   \n",
       "\n",
       "   image5.jpg Group_gen  \n",
       "0       0.225      cat0  \n",
       "1       0.096      cat0  \n",
       "2       0.087      cat0  \n",
       "3       0.072    cat100  \n",
       "4       0.228    cat100  "
      ]
     },
     "execution_count": 5,
     "metadata": {},
     "output_type": "execute_result"
    }
   ],
   "source": [
    "df_ssim_reset.head()"
   ]
  },
  {
   "cell_type": "code",
   "execution_count": 6,
   "metadata": {},
   "outputs": [],
   "source": [
    "grouped_df_psnr = df_psnr_reset.groupby('Group_gen')[['image1.jpg','image2.png','image3.jpeg','image4.jpg','image5.jpg']].mean()\n",
    "grouped_df_ssim = df_ssim_reset.groupby('Group_gen')[['image1.jpg','image2.png','image3.jpeg','image4.jpg','image5.jpg']].mean()"
   ]
  },
  {
   "cell_type": "code",
   "execution_count": 7,
   "metadata": {},
   "outputs": [],
   "source": [
    "grouped_df_psnr['mean'] = grouped_df_psnr.mean(axis=1)\n",
    "grouped_df_ssim['mean'] = grouped_df_ssim.mean(axis=1)"
   ]
  },
  {
   "cell_type": "code",
   "execution_count": 8,
   "metadata": {},
   "outputs": [],
   "source": [
    "grouped_df_psnr.to_csv('psnr_mean.csv', encoding='utf-8-sig')\n",
    "grouped_df_ssim.to_csv('ssim_mean.csv', encoding='utf-8-sig')"
   ]
  },
  {
   "cell_type": "code",
   "execution_count": 9,
   "metadata": {},
   "outputs": [],
   "source": [
    "grouped_df_psnr = pd.read_csv('./psnr_mean.csv')\n",
    "grouped_df_ssim = pd.read_csv('./ssim_mean.csv')"
   ]
  },
  {
   "cell_type": "code",
   "execution_count": 10,
   "metadata": {},
   "outputs": [
    {
     "data": {
      "image/png": "[encoded data removed]",
      "text/plain": [
       "<Figure size 800x600 with 1 Axes>"
      ]
     },
     "metadata": {},
     "output_type": "display_data"
    }
   ],
   "source": [
    "import matplotlib.pyplot as plt\n",
    "# 막대 그래프 그리기\n",
    "plt.figure(figsize=(8, 6))\n",
    "plt.bar(grouped_df_psnr['Group_gen'], grouped_df_psnr['mean'], color='skyblue')\n",
    "\n",
    "# 레이블 및 제목 설정\n",
    "plt.xlabel('step')\n",
    "plt.ylabel('psnr')\n",
    "plt.ylim(5)\n",
    "plt.title('psnr value per step')\n",
    "plt.tight_layout()\n",
    "plt.show()"
   ]
  },
  {
   "cell_type": "code",
   "execution_count": 11,
   "metadata": {},
   "outputs": [
    {
     "data": {
      "text/plain": [
       "Text(0.5, 1.0, 'ssim value per step')"
      ]
     },
     "execution_count": 11,
     "metadata": {},
     "output_type": "execute_result"
    },
    {
     "data": {
      "image/png": "[encoded data removed]",
      "text/plain": [
       "<Figure size 800x600 with 1 Axes>"
      ]
     },
     "metadata": {},
     "output_type": "display_data"
    }
   ],
   "source": [
    "# 막대 그래프 그리기\n",
    "plt.figure(figsize=(8, 6))\n",
    "plt.bar(grouped_df_ssim['Group_gen'], grouped_df_ssim['mean'], color='orange')\n",
    "\n",
    "# 레이블 및 제목 설정\n",
    "plt.xlabel('step')\n",
    "plt.ylabel('ssim')\n",
    "plt.title('ssim value per step')"
   ]
  },
  {
   "cell_type": "code",
   "execution_count": 12,
   "metadata": {},
   "outputs": [],
   "source": [
    "grouped_df_psnr = grouped_df_psnr.round(3)\n",
    "grouped_df_ssim = grouped_df_ssim.round(3)\n",
    "grouped_df_psnr.to_csv('psnr_mean.csv', encoding='utf-8-sig')\n",
    "grouped_df_ssim.to_csv('ssim_mean.csv', encoding='utf-8-sig')"
   ]
  }
 ],
 "metadata": {
  "kernelspec": {
   "display_name": "capstone",
   "language": "python",
   "name": "python3"
  },
  "language_info": {
   "codemirror_mode": {
    "name": "ipython",
    "version": 3
   },
   "file_extension": ".py",
   "mimetype": "text/x-python",
   "name": "python",
   "nbconvert_exporter": "python",
   "pygments_lexer": "ipython3",
   "version": "3.10.14"
  }
 },
 "nbformat": 4,
 "nbformat_minor": 2
}
