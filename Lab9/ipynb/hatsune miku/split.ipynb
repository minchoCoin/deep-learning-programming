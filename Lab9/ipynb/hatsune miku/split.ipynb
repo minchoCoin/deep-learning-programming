{
 "cells": [
  {
   "cell_type": "code",
   "execution_count": 1,
   "metadata": {},
   "outputs": [],
   "source": [
    "from PIL import Image\n",
    "import os\n",
    "\n",
    "def split_image_into_three(image_path, output_dir):\n",
    "    \"\"\"\n",
    "    주어진 이미지 파일을 가로로 3등분하여 output_dir에 저장합니다.\n",
    "    \n",
    "    Args:\n",
    "        image_path (str): 분할할 이미지 파일의 경로.\n",
    "        output_dir (str): 분할된 이미지를 저장할 디렉토리 경로.\n",
    "    \"\"\"\n",
    "    try:\n",
    "        # 이미지 열기\n",
    "        img = Image.open(image_path)\n",
    "        width, height = img.size\n",
    "        single_width = width // 3\n",
    "\n",
    "        # 출력 디렉토리 없으면 생성\n",
    "        if not os.path.exists(output_dir):\n",
    "            os.makedirs(output_dir)\n",
    "\n",
    "        # 3개로 분할하여 저장\n",
    "        for i in range(3):\n",
    "            left = i * single_width\n",
    "            right = (i + 1) * single_width if i < 2 else width  # 마지막 조각은 남은 모든 부분\n",
    "            box = (left, 0, right, height)\n",
    "            cropped_img = img.crop(box)\n",
    "            base_name = os.path.basename(image_path)\n",
    "            name, ext = os.path.splitext(base_name)\n",
    "            output_path = os.path.join(output_dir, f\"{name}_part{i+1}{ext}\")\n",
    "            cropped_img.save(output_path)\n",
    "            print(f\"Saved: {output_path}\")\n",
    "    except Exception as e:\n",
    "        print(f\"Error processing {image_path}: {e}\")\n",
    "\n",
    "def split_images_in_folder(input_folder, output_folder):\n",
    "    \"\"\"\n",
    "    입력 폴더 내의 모든 이미지를 가로로 3등분하여 출력 폴더에 저장합니다.\n",
    "    \n",
    "    Args:\n",
    "        input_folder (str): 분할할 이미지들이 있는 폴더 경로.\n",
    "        output_folder (str): 분할된 이미지를 저장할 폴더 경로.\n",
    "    \"\"\"\n",
    "    # 출력 디렉토리 없으면 생성\n",
    "    if not os.path.exists(output_folder):\n",
    "        os.makedirs(output_folder)\n",
    "    \n",
    "    # 입력 폴더 내의 모든 파일 순회\n",
    "    for filename in os.listdir(input_folder):\n",
    "        if filename.lower().endswith(('.png', '.jpg', '.jpeg', '.bmp', '.gif')):\n",
    "            image_path = os.path.join(input_folder, filename)\n",
    "            print(f\"Processing: {image_path}\")\n",
    "            split_image_into_three(image_path, output_folder)"
   ]
  },
  {
   "cell_type": "code",
   "execution_count": 2,
   "metadata": {},
   "outputs": [
    {
     "name": "stdout",
     "output_type": "stream",
     "text": [
      "Processing: ./images\\miku0.png\n",
      "Saved: ./images_split\\miku0_part1.png\n",
      "Saved: ./images_split\\miku0_part2.png\n",
      "Saved: ./images_split\\miku0_part3.png\n",
      "Processing: ./images\\miku100.png\n",
      "Saved: ./images_split\\miku100_part1.png\n",
      "Saved: ./images_split\\miku100_part2.png\n",
      "Saved: ./images_split\\miku100_part3.png\n",
      "Processing: ./images\\miku150.png\n",
      "Saved: ./images_split\\miku150_part1.png\n",
      "Saved: ./images_split\\miku150_part2.png\n",
      "Saved: ./images_split\\miku150_part3.png\n",
      "Processing: ./images\\miku200.png\n",
      "Saved: ./images_split\\miku200_part1.png\n",
      "Saved: ./images_split\\miku200_part2.png\n",
      "Saved: ./images_split\\miku200_part3.png\n",
      "Processing: ./images\\miku250.png\n",
      "Saved: ./images_split\\miku250_part1.png\n",
      "Saved: ./images_split\\miku250_part2.png\n",
      "Saved: ./images_split\\miku250_part3.png\n",
      "Processing: ./images\\miku50.png\n",
      "Saved: ./images_split\\miku50_part1.png\n",
      "Saved: ./images_split\\miku50_part2.png\n",
      "Saved: ./images_split\\miku50_part3.png\n"
     ]
    }
   ],
   "source": [
    "split_images_in_folder('./images', './images_split')"
   ]
  }
 ],
 "metadata": {
  "kernelspec": {
   "display_name": "capstone",
   "language": "python",
   "name": "python3"
  },
  "language_info": {
   "codemirror_mode": {
    "name": "ipython",
    "version": 3
   },
   "file_extension": ".py",
   "mimetype": "text/x-python",
   "name": "python",
   "nbconvert_exporter": "python",
   "pygments_lexer": "ipython3",
   "version": "3.10.14"
  }
 },
 "nbformat": 4,
 "nbformat_minor": 2
}
