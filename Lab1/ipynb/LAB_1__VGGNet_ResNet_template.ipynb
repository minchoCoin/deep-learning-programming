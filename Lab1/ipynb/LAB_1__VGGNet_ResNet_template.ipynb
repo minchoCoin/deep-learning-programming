{
  "cells": [
    {
      "cell_type": "markdown",
      "metadata": {
        "id": "SEHO-jaFj9Zm"
      },
      "source": [
        "#LAB 1: VGGNet & ResNet"
      ]
    },
    {
      "cell_type": "markdown",
      "metadata": {
        "id": "HVdm1LA1j9Zo"
      },
      "source": [
        "<h4><div style=\"text-align: right\"> Due date: 15:00 Oct 10, 2024.  </div> <br>\n",
        "<div style=\"text-align: right\"> Please upload your file and final-report at PLATO before the class in the form of [ID_Name_Lab1.ipynb]. </div></h4>"
      ]
    },
    {
      "cell_type": "markdown",
      "metadata": {
        "id": "8cl2DqlTj9Zp"
      },
      "source": [
        "### *Instructions:*\n",
        "- Write a program implementing a particular algorithm to solve a given problem.   \n",
        "- <span style=\"color:red\">**Report and discuss your results. Analyze the algorithm, theoretically and empirically.**</span>\n",
        "- You must write their own answers and codes (<span style=\"color:red\">**if not you will get a F grade**</span>)."
      ]
    },
    {
      "cell_type": "markdown",
      "metadata": {
        "id": "KKipoMbMj9Zq"
      },
      "source": [
        "<h2><span style=\"color:blue\">[201924451] [김태훈]</span> </h2>"
      ]
    },
    {
      "cell_type": "code",
      "execution_count": null,
      "metadata": {
        "colab": {
          "base_uri": "https://localhost:8080/"
        },
        "id": "VL1pbTi2j9Zr",
        "outputId": "9b0df360-e1d8-437c-d9e9-845f58e2723f"
      },
      "outputs": [
        {
          "output_type": "stream",
          "name": "stdout",
          "text": [
            "This code is written at 2024-10-04 05:39:26.057342\n"
          ]
        }
      ],
      "source": [
        "import datetime\n",
        "print(\"This code is written at \" + str(datetime.datetime.now()))"
      ]
    },
    {
      "cell_type": "code",
      "execution_count": null,
      "metadata": {
        "colab": {
          "base_uri": "https://localhost:8080/"
        },
        "id": "5rfPXXDMkcpZ",
        "outputId": "33ed8084-3ec6-4135-eacf-73b0949a4419"
      },
      "outputs": [
        {
          "output_type": "stream",
          "name": "stdout",
          "text": [
            "Python version\n",
            "sys.version_info(major=3, minor=10, micro=12, releaselevel='final', serial=0)\n",
            "\n",
            "OS information\n",
            "Linux-6.1.85+-x86_64-with-glibc2.35\n",
            "\n",
            "Is GPU available?\n",
            "True\n",
            "\n",
            "GPU information\n",
            "Fri Oct  4 05:39:36 2024       \n",
            "+---------------------------------------------------------------------------------------+\n",
            "| NVIDIA-SMI 535.104.05             Driver Version: 535.104.05   CUDA Version: 12.2     |\n",
            "|-----------------------------------------+----------------------+----------------------+\n",
            "| GPU  Name                 Persistence-M | Bus-Id        Disp.A | Volatile Uncorr. ECC |\n",
            "| Fan  Temp   Perf          Pwr:Usage/Cap |         Memory-Usage | GPU-Util  Compute M. |\n",
            "|                                         |                      |               MIG M. |\n",
            "|=========================================+======================+======================|\n",
            "|   0  Tesla T4                       Off | 00000000:00:04.0 Off |                    0 |\n",
            "| N/A   31C    P8              10W /  70W |      3MiB / 15360MiB |      0%      Default |\n",
            "|                                         |                      |                  N/A |\n",
            "+-----------------------------------------+----------------------+----------------------+\n",
            "                                                                                         \n",
            "+---------------------------------------------------------------------------------------+\n",
            "| Processes:                                                                            |\n",
            "|  GPU   GI   CI        PID   Type   Process name                            GPU Memory |\n",
            "|        ID   ID                                                             Usage      |\n",
            "|=======================================================================================|\n",
            "|  No running processes found                                                           |\n",
            "+---------------------------------------------------------------------------------------+\n"
          ]
        }
      ],
      "source": [
        "#####################################################################\n",
        "# In order to use GPU acceleration, you must change runtime type.\n",
        "# See the menu bar above.\n",
        "# \"Runtime\" -> \"Change runtime type\"  -> \"Hardware accelerator\"\n",
        "# Change 'None' to 'GPU', then run the code below.\n",
        "#####################################################################\n",
        "\n",
        "import sys\n",
        "import platform\n",
        "import torch\n",
        "\n",
        "print(\"Python version\")\n",
        "print(sys.version_info)\n",
        "\n",
        "print(\"\\nOS information\")\n",
        "print(platform.platform())\n",
        "\n",
        "print(\"\\nIs GPU available?\")\n",
        "print(torch.cuda.is_available())\n",
        "\n",
        "# print(\"\\nCPU information\")\n",
        "# !cat /proc/cpuinfo\n",
        "\n",
        "# print(\"\\nMemory information\")\n",
        "# !cat /proc/meminfo\n",
        "\n",
        "print(\"\\nGPU information\")\n",
        "!nvidia-smi"
      ]
    },
    {
      "cell_type": "markdown",
      "metadata": {
        "id": "VpPLjwr8j9Zw"
      },
      "source": [
        "## 1. VGGNet with PyTorch"
      ]
    },
    {
      "cell_type": "markdown",
      "metadata": {
        "id": "IWeEYLiSj9Zx"
      },
      "source": [
        "### Implementing VGGNet\n",
        "\n",
        "> 1. **Dataset**\n",
        ">> - Images from the first three categories in CIFAR-10. (Due to the computational constraints.)  <br>\n",
        "     Three categories : plane, car, bird  /  The number of training images : 15,000   /  The number of test images : 3,000\n",
        ">> - Augmented with flipping and random cropping.\n",
        ">\n",
        "> 2. **Network architecture**\n",
        ">> - Type-D configuration in the paper (+ 3-way classifier after convolutional layers).\n",
        ">> - ReLU activation.\n",
        ">> - No dropout for simplicity.\n",
        ">> - We will apply **batch-normalization** after every convolution which is not used in the paper (otherwise, hard to optimize).\n",
        ">> - **Conv2d -> BatchNorm2d -> ReLU**\n",
        ">>\n",
        ">> <table><tr>\n",
        ">> <td> <img src=\"https://docs.google.com/uc?export=download&id=1OiTmrplD9gOrEJizLChyLp31R0QtoeHv\" alt=\"no_image\" style=\"width: 550px;\"/> </td>\n",
        ">> <td> <img src=\"https://docs.google.com/uc?export=download&id=1bBvAOdJeskMMyOrZtBCCnkEEgq9PgjX9\" alt=\"no_image\" style=\"width: 250px;\"/> </td>\n",
        ">> </tr></table>\n",
        ">>\n",
        ">> <font size=\"0.5\"> Figure from <br>\n",
        ">> [1] https://www.quora.com/What-is-the-VGG-neural-network </font>\n",
        ">\n",
        "> 3. **Loss function**\n",
        ">> - Cross-entropy loss between outputs & ground-truths. <br>\n",
        "     Note that `nn.CrossEntroyLoss` takes logits before softmax as network outputs and scalar index (not one-hot vector) as ground-truths.<br>\n",
        "     See https://pytorch.org/docs/stable/nn.html#crossentropyloss for details.\n",
        ">\n",
        "> 4. **Training**\n",
        ">> - Default weight initialization for simplicity.\n",
        ">> - SGD optimizer with `learning rate = 1e-2`, `momentum = 0.9`, and `weight_decay = 5e-4`.\n",
        ">> - 20 epochs without learning rate scheduling.\n",
        ">\n",
        "> 5. **Evaluation metric**\n",
        ">> - Classification accuracy (i.e., the percentage of correct predictions).\n",
        ">\n",
        ">"
      ]
    },
    {
      "cell_type": "code",
      "execution_count": null,
      "metadata": {
        "id": "LGgir5u7j9Zy"
      },
      "outputs": [],
      "source": [
        "import torch\n",
        "import torch.nn as nn\n",
        "import torch.optim as optim\n",
        "import torch.nn.functional as F\n",
        "import torchvision.transforms as transforms\n",
        "import torchvision.datasets as dsets\n",
        "import torchvision\n",
        "import time\n",
        "import os\n",
        "\n",
        "# os.environ[\"CUDA_VISIBLE_DEVICES\"]=\"0\""
      ]
    },
    {
      "cell_type": "code",
      "execution_count": null,
      "metadata": {
        "colab": {
          "base_uri": "https://localhost:8080/"
        },
        "id": "OwvpXFuaj9Z0",
        "outputId": "44cd5007-d15e-4a13-8808-2bb9d0acfe67"
      },
      "outputs": [
        {
          "output_type": "stream",
          "name": "stdout",
          "text": [
            "STEP 1: LOADING DATASET\n",
            "Downloading https://www.cs.toronto.edu/~kriz/cifar-10-python.tar.gz to ./data/CIFAR10/cifar-10-python.tar.gz\n"
          ]
        },
        {
          "output_type": "stream",
          "name": "stderr",
          "text": [
            "100%|██████████| 170498071/170498071 [00:04<00:00, 37781439.59it/s]\n"
          ]
        },
        {
          "output_type": "stream",
          "name": "stdout",
          "text": [
            "Extracting ./data/CIFAR10/cifar-10-python.tar.gz to ./data/CIFAR10/\n"
          ]
        }
      ],
      "source": [
        "print('STEP 1: LOADING DATASET')\n",
        "\n",
        "transform_train = transforms.Compose([\n",
        "    transforms.RandomCrop(32, padding=4),\n",
        "    transforms.RandomHorizontalFlip(),\n",
        "    transforms.ToTensor(),\n",
        "    transforms.Normalize((0.4914, 0.4822, 0.4465), (0.2023, 0.1994, 0.2010)),\n",
        "])\n",
        "\n",
        "transform_test = transforms.Compose([\n",
        "    transforms.ToTensor(),\n",
        "    transforms.Normalize((0.4914, 0.4822, 0.4465), (0.2023, 0.1994, 0.2010)),\n",
        "])\n",
        "\n",
        "train_dataset = dsets.CIFAR10(root='./data/CIFAR10/',\n",
        "                            train=True,\n",
        "                            transform=transform_train,\n",
        "                            download=True)\n",
        "\n",
        "test_dataset = dsets.CIFAR10(root='./data/CIFAR10/',\n",
        "                           train=False,\n",
        "                           transform=transform_test)"
      ]
    },
    {
      "cell_type": "code",
      "execution_count": null,
      "metadata": {
        "id": "DrK0ZHmLj9Z4"
      },
      "outputs": [],
      "source": [
        "# reducing the dataset\n",
        "reduced_train_dataset = []\n",
        "for images, labels in train_dataset:\n",
        "    if labels < 3:\n",
        "        reduced_train_dataset.append((images, labels))\n",
        "\n",
        "reduced_test_dataset = []\n",
        "for images, labels in test_dataset:\n",
        "    if labels < 3:\n",
        "        reduced_test_dataset.append((images, labels))"
      ]
    },
    {
      "cell_type": "code",
      "execution_count": null,
      "metadata": {
        "colab": {
          "base_uri": "https://localhost:8080/"
        },
        "id": "LWnYJ2cwj9Z6",
        "outputId": "4e5da798-90c4-413f-e0da-d05f6520ec91"
      },
      "outputs": [
        {
          "output_type": "stream",
          "name": "stdout",
          "text": [
            "The number of training images :  15000\n",
            "The number of test images :  3000\n"
          ]
        }
      ],
      "source": [
        "print(\"The number of training images : \", len(reduced_train_dataset))\n",
        "print(\"The number of test images : \", len(reduced_test_dataset))"
      ]
    },
    {
      "cell_type": "code",
      "execution_count": null,
      "metadata": {
        "colab": {
          "base_uri": "https://localhost:8080/"
        },
        "id": "WFq0isyCj9Z-",
        "outputId": "bb49c615-2661-498e-991e-c67f1cacc356"
      },
      "outputs": [
        {
          "output_type": "stream",
          "name": "stdout",
          "text": [
            "STEP 2: MAKING DATASET ITERABLE\n"
          ]
        }
      ],
      "source": [
        "print('STEP 2: MAKING DATASET ITERABLE')\n",
        "\n",
        "train_loader = torch.utils.data.DataLoader(dataset=reduced_train_dataset,\n",
        "                                           batch_size=128,\n",
        "                                           shuffle=True)\n",
        "\n",
        "test_loader = torch.utils.data.DataLoader(dataset=reduced_test_dataset,\n",
        "                                          batch_size=100,\n",
        "                                          shuffle=False)\n",
        "\n",
        "class_names = ('plane', 'car', 'bird', 'cat', 'deer', 'dog', 'frog', 'horse', 'ship', 'truck')"
      ]
    },
    {
      "cell_type": "markdown",
      "metadata": {
        "id": "Wy7GW1lkj9aB"
      },
      "source": [
        "### Visualize a few images"
      ]
    },
    {
      "cell_type": "code",
      "execution_count": null,
      "metadata": {
        "id": "tJGv35Alj9aC"
      },
      "outputs": [],
      "source": [
        "import matplotlib.pyplot as plt\n",
        "%matplotlib inline\n",
        "import numpy as np"
      ]
    },
    {
      "cell_type": "code",
      "execution_count": null,
      "metadata": {
        "id": "3PYou4Cuj9aE"
      },
      "outputs": [],
      "source": [
        "def imshow(inp, title=None):\n",
        "    \"\"\"Imshow for Tensor.\"\"\"\n",
        "    inp = inp.numpy().transpose((1, 2, 0))\n",
        "    mean = np.array([0.4914, 0.4822, 0.4465])\n",
        "    std = np.array([0.2023, 0.1994, 0.2010])\n",
        "    inp = std * inp + mean\n",
        "    inp = np.clip(inp, 0, 1)\n",
        "    plt.imshow(inp)\n",
        "    if title is not None:\n",
        "        plt.title(title)\n",
        "    plt.pause(0.001)  # pause a bit so that plots are updated"
      ]
    },
    {
      "cell_type": "code",
      "execution_count": null,
      "metadata": {
        "colab": {
          "base_uri": "https://localhost:8080/",
          "height": 212
        },
        "id": "jX59AE2pj9aH",
        "outputId": "f100cb71-a178-4241-9944-1a86a7828efa"
      },
      "outputs": [
        {
          "output_type": "display_data",
          "data": {
            "text/plain": [
              "<Figure size 640x480 with 1 Axes>"
            ],
            "image/png": "[encoded data removed]"
          },
          "metadata": {}
        }
      ],
      "source": [
        "train_loader_sample = torch.utils.data.DataLoader(dataset=reduced_train_dataset,\n",
        "                                           batch_size=4,\n",
        "                                           shuffle=True)\n",
        "\n",
        "# Get a batch of training data\n",
        "inputs, classes = next(iter(train_loader_sample))\n",
        "\n",
        "# Make a grid from batch\n",
        "out = torchvision.utils.make_grid(inputs)\n",
        "\n",
        "imshow(out, title=[class_names[x] for x in classes])"
      ]
    },
    {
      "cell_type": "markdown",
      "metadata": {
        "id": "hzbc_fTrj9aM"
      },
      "source": [
        "### 1.1 Write code (VGG 16) [3 points]"
      ]
    },
    {
      "cell_type": "code",
      "execution_count": null,
      "metadata": {
        "colab": {
          "base_uri": "https://localhost:8080/"
        },
        "id": "gjeNHb89j9aN",
        "outputId": "5085fade-1438-4fb3-c274-4d9b059bb7c3"
      },
      "outputs": [
        {
          "output_type": "stream",
          "name": "stdout",
          "text": [
            "STEP 3: CREATE MODEL CLASS (VGG16)\n"
          ]
        }
      ],
      "source": [
        "print('STEP 3: CREATE MODEL CLASS (VGG16)')\n",
        "\n",
        "#############\n",
        "# CODE HERE #\n",
        "#############\n",
        "\n",
        "## BatchNorm2d(in_channel)\n",
        "\n",
        "cfg = [64, 64, 'MP', 128, 128, 128, 'MP',256,256,256,'MP', 512, 512, 512, 'MP', 512, 512, 512, 'MP']\n",
        "\n",
        "class VGG(nn.Module):\n",
        "    def __init__(self):\n",
        "        super(VGG, self).__init__()\n",
        "        self.VGG16 = self._make_layers(cfg)\n",
        "        self.classifier = nn.Linear(512, 3)\n",
        "\n",
        "    def forward(self, x):\n",
        "        out = self.VGG16(x)\n",
        "        out = out.view(out.size(0), -1)\n",
        "        out = self.classifier(out)\n",
        "\n",
        "        return out\n",
        "\n",
        "    def _make_layers(self,cfg):\n",
        "        layers = []\n",
        "        in_channels=3\n",
        "        for x in cfg:\n",
        "          assert x=='MP' or isinstance(x,int)\n",
        "          if x=='MP':\n",
        "            layers  = layers+ [nn.MaxPool2d(kernel_size=2)]\n",
        "          else:\n",
        "            layers+=[nn.Conv2d(in_channels,x,kernel_size=3,padding='same')]\n",
        "            layers+=[nn.BatchNorm2d(x)]\n",
        "            layers+=[nn.ReLU()]\n",
        "            in_channels=x\n",
        "\n",
        "        return nn.Sequential(*layers)"
      ]
    },
    {
      "cell_type": "code",
      "execution_count": null,
      "metadata": {
        "id": "iqoPZuR3j9aQ",
        "colab": {
          "base_uri": "https://localhost:8080/"
        },
        "outputId": "be236bd1-91ce-4b35-9b0e-be28344d619c"
      },
      "outputs": [
        {
          "output_type": "stream",
          "name": "stdout",
          "text": [
            "STEP 4: INSTANTIATE MODEL CLASS\n",
            "The number of parameters :  14872515\n"
          ]
        },
        {
          "output_type": "execute_result",
          "data": {
            "text/plain": [
              "VGG(\n",
              "  (VGG16): Sequential(\n",
              "    (0): Conv2d(3, 64, kernel_size=(3, 3), stride=(1, 1), padding=same)\n",
              "    (1): BatchNorm2d(64, eps=1e-05, momentum=0.1, affine=True, track_running_stats=True)\n",
              "    (2): ReLU()\n",
              "    (3): Conv2d(64, 64, kernel_size=(3, 3), stride=(1, 1), padding=same)\n",
              "    (4): BatchNorm2d(64, eps=1e-05, momentum=0.1, affine=True, track_running_stats=True)\n",
              "    (5): ReLU()\n",
              "    (6): MaxPool2d(kernel_size=2, stride=2, padding=0, dilation=1, ceil_mode=False)\n",
              "    (7): Conv2d(64, 128, kernel_size=(3, 3), stride=(1, 1), padding=same)\n",
              "    (8): BatchNorm2d(128, eps=1e-05, momentum=0.1, affine=True, track_running_stats=True)\n",
              "    (9): ReLU()\n",
              "    (10): Conv2d(128, 128, kernel_size=(3, 3), stride=(1, 1), padding=same)\n",
              "    (11): BatchNorm2d(128, eps=1e-05, momentum=0.1, affine=True, track_running_stats=True)\n",
              "    (12): ReLU()\n",
              "    (13): Conv2d(128, 128, kernel_size=(3, 3), stride=(1, 1), padding=same)\n",
              "    (14): BatchNorm2d(128, eps=1e-05, momentum=0.1, affine=True, track_running_stats=True)\n",
              "    (15): ReLU()\n",
              "    (16): MaxPool2d(kernel_size=2, stride=2, padding=0, dilation=1, ceil_mode=False)\n",
              "    (17): Conv2d(128, 256, kernel_size=(3, 3), stride=(1, 1), padding=same)\n",
              "    (18): BatchNorm2d(256, eps=1e-05, momentum=0.1, affine=True, track_running_stats=True)\n",
              "    (19): ReLU()\n",
              "    (20): Conv2d(256, 256, kernel_size=(3, 3), stride=(1, 1), padding=same)\n",
              "    (21): BatchNorm2d(256, eps=1e-05, momentum=0.1, affine=True, track_running_stats=True)\n",
              "    (22): ReLU()\n",
              "    (23): Conv2d(256, 256, kernel_size=(3, 3), stride=(1, 1), padding=same)\n",
              "    (24): BatchNorm2d(256, eps=1e-05, momentum=0.1, affine=True, track_running_stats=True)\n",
              "    (25): ReLU()\n",
              "    (26): MaxPool2d(kernel_size=2, stride=2, padding=0, dilation=1, ceil_mode=False)\n",
              "    (27): Conv2d(256, 512, kernel_size=(3, 3), stride=(1, 1), padding=same)\n",
              "    (28): BatchNorm2d(512, eps=1e-05, momentum=0.1, affine=True, track_running_stats=True)\n",
              "    (29): ReLU()\n",
              "    (30): Conv2d(512, 512, kernel_size=(3, 3), stride=(1, 1), padding=same)\n",
              "    (31): BatchNorm2d(512, eps=1e-05, momentum=0.1, affine=True, track_running_stats=True)\n",
              "    (32): ReLU()\n",
              "    (33): Conv2d(512, 512, kernel_size=(3, 3), stride=(1, 1), padding=same)\n",
              "    (34): BatchNorm2d(512, eps=1e-05, momentum=0.1, affine=True, track_running_stats=True)\n",
              "    (35): ReLU()\n",
              "    (36): MaxPool2d(kernel_size=2, stride=2, padding=0, dilation=1, ceil_mode=False)\n",
              "    (37): Conv2d(512, 512, kernel_size=(3, 3), stride=(1, 1), padding=same)\n",
              "    (38): BatchNorm2d(512, eps=1e-05, momentum=0.1, affine=True, track_running_stats=True)\n",
              "    (39): ReLU()\n",
              "    (40): Conv2d(512, 512, kernel_size=(3, 3), stride=(1, 1), padding=same)\n",
              "    (41): BatchNorm2d(512, eps=1e-05, momentum=0.1, affine=True, track_running_stats=True)\n",
              "    (42): ReLU()\n",
              "    (43): Conv2d(512, 512, kernel_size=(3, 3), stride=(1, 1), padding=same)\n",
              "    (44): BatchNorm2d(512, eps=1e-05, momentum=0.1, affine=True, track_running_stats=True)\n",
              "    (45): ReLU()\n",
              "    (46): MaxPool2d(kernel_size=2, stride=2, padding=0, dilation=1, ceil_mode=False)\n",
              "  )\n",
              "  (classifier): Linear(in_features=512, out_features=3, bias=True)\n",
              ")"
            ]
          },
          "metadata": {},
          "execution_count": 12
        }
      ],
      "source": [
        "print('STEP 4: INSTANTIATE MODEL CLASS')\n",
        "\n",
        "model = VGG()\n",
        "num_total_params = sum(p.numel() for p in model.parameters())\n",
        "print(\"The number of parameters : \", num_total_params)\n",
        "#######################\n",
        "#  USE GPU FOR MODEL  #\n",
        "#######################\n",
        "\n",
        "device = torch.device(\"cuda:0\" if torch.cuda.is_available() else \"cpu\")\n",
        "model.to(device)"
      ]
    },
    {
      "cell_type": "code",
      "execution_count": null,
      "metadata": {
        "colab": {
          "base_uri": "https://localhost:8080/"
        },
        "id": "mFeamtXXj9aT",
        "outputId": "dd656339-7ce7-4746-a390-6db0c43ec0d1"
      },
      "outputs": [
        {
          "output_type": "stream",
          "name": "stdout",
          "text": [
            "STEP 5: INSTANTIATE LOSS CLASS\n",
            "STEP 6: INSTANTIATE OPTIMIZER CLASS\n"
          ]
        }
      ],
      "source": [
        "print('STEP 5: INSTANTIATE LOSS CLASS')\n",
        "\n",
        "criterion = nn.CrossEntropyLoss()\n",
        "\n",
        "print('STEP 6: INSTANTIATE OPTIMIZER CLASS')\n",
        "\n",
        "learning_rate = 1e-2\n",
        "momentum = 0.9\n",
        "weight_decay = 5e-4\n",
        "\n",
        "optimizer = torch.optim.SGD(model.parameters(), lr=learning_rate, momentum = momentum, weight_decay = weight_decay)"
      ]
    },
    {
      "cell_type": "markdown",
      "metadata": {
        "id": "PaWErvoRj9aY"
      },
      "source": [
        "### 1.2 Train the VGG 16 model and print test accuracy for every epochs [2 points]"
      ]
    },
    {
      "cell_type": "code",
      "execution_count": null,
      "metadata": {
        "colab": {
          "base_uri": "https://localhost:8080/"
        },
        "id": "bbi85f2Pj9aY",
        "outputId": "1596e90b-c4a8-448d-99fd-67b29537e960",
        "scrolled": true
      },
      "outputs": [
        {
          "output_type": "stream",
          "name": "stdout",
          "text": [
            "STEP 7: TRAIN THE MODEL\n",
            "Epochs: 0. Loss: 0.4189082384109497. Accuracy: 80.76666666666667\n",
            "Epochs: 1. Loss: 0.1901608258485794. Accuracy: 85.8\n",
            "Epochs: 2. Loss: 0.4729778468608856. Accuracy: 86.76666666666667\n",
            "Epochs: 3. Loss: 0.12069416046142578. Accuracy: 89.6\n",
            "Epochs: 4. Loss: 0.46087560057640076. Accuracy: 89.93333333333334\n",
            "Epochs: 5. Loss: 0.20268459618091583. Accuracy: 90.36666666666666\n",
            "Epochs: 6. Loss: 0.033549319952726364. Accuracy: 90.93333333333334\n",
            "Epochs: 7. Loss: 0.04799172282218933. Accuracy: 91.43333333333334\n",
            "Epochs: 8. Loss: 0.04195685312151909. Accuracy: 92.3\n",
            "Epochs: 9. Loss: 0.17689622938632965. Accuracy: 91.5\n",
            "Epochs: 10. Loss: 0.04930618405342102. Accuracy: 91.33333333333333\n",
            "Epochs: 11. Loss: 0.1728907823562622. Accuracy: 92.86666666666666\n",
            "Epochs: 12. Loss: 0.0674513429403305. Accuracy: 92.76666666666667\n",
            "Epochs: 13. Loss: 0.3253967761993408. Accuracy: 91.86666666666666\n",
            "Epochs: 14. Loss: 0.013108312152326107. Accuracy: 91.93333333333334\n",
            "Epochs: 15. Loss: 0.2381926029920578. Accuracy: 92.63333333333334\n",
            "Epochs: 16. Loss: 0.02984284609556198. Accuracy: 93.3\n",
            "Epochs: 17. Loss: 0.05730621889233589. Accuracy: 93.4\n",
            "Epochs: 18. Loss: 0.0019098020857200027. Accuracy: 92.9\n",
            "Epochs: 19. Loss: 0.42882993817329407. Accuracy: 93.23333333333333\n"
          ]
        }
      ],
      "source": [
        "print('STEP 7: TRAIN THE MODEL')\n",
        "num_epochs = 20\n",
        "\n",
        "#############\n",
        "# CODE HERE #\n",
        "#############\n",
        "iter = 0\n",
        "for epoch in range(num_epochs):\n",
        "    for i, (images, labels) in enumerate(train_loader):\n",
        "        # Load images with gradient accumulation capabilities\n",
        "\n",
        "        images = images.to(device)\n",
        "        labels = labels.to(device)\n",
        "\n",
        "\n",
        "        # Clear gradients w.r.t. parameters\n",
        "        optimizer.zero_grad()\n",
        "\n",
        "        # Forward pass to get output/logits\n",
        "        outputs = model(images)\n",
        "\n",
        "        # Calculate Loss: softmax --> cross entropy loss\n",
        "        loss = criterion(outputs, labels)\n",
        "\n",
        "        # Getting gradients w.r.t. parameters\n",
        "        loss.backward()\n",
        "\n",
        "        # Updating parameters\n",
        "        optimizer.step()\n",
        "\n",
        "\n",
        "\n",
        "\n",
        "    # Calculate Accuracy\n",
        "    correct = 0\n",
        "    total = 0\n",
        "    # Iterate through test dataset\n",
        "    for images, labels in test_loader:\n",
        "        # Load images with gradient accumulation capabilities\n",
        "        images = images.to(device)\n",
        "        labels = labels.to(device)\n",
        "\n",
        "        # Forward pass only to get logits/output\n",
        "        outputs = model(images)\n",
        "\n",
        "        # Get predictions from the maximum value\n",
        "        _, predicted = torch.max(outputs.data, 1)\n",
        "\n",
        "        # Total number of labels\n",
        "        total += labels.size(0)\n",
        "\n",
        "        # Total correct predictions\n",
        "        correct += (predicted == labels).sum()\n",
        "\n",
        "    accuracy = 100 * correct.item() / total\n",
        "\n",
        "        # Print Loss\n",
        "    print('Epochs: {}. Loss: {}. Accuracy: {}'.format(epoch, loss.item(), accuracy))\n"
      ]
    },
    {
      "cell_type": "markdown",
      "metadata": {
        "id": "Tb-Zo5yOj9ac"
      },
      "source": [
        "## 2. ResNet with PyTorch"
      ]
    },
    {
      "cell_type": "markdown",
      "metadata": {
        "id": "MQeESvzij9ad"
      },
      "source": [
        "### Implementing ResNet\n",
        "\n",
        "> 1. **Dataset**\n",
        ">> - The same dataset used for VGGNet\n",
        ">\n",
        "> 2. **Network architecture**\n",
        ">> - 50-layer ResNet with **bottleneck blocks**. <br>\n",
        "     Note. The initial convolution layer (i.e., conv1) is different from the one in the paper &<br>\n",
        "     the initial max-pooling layer is removed (because the size of CIFAR-10 images is too small).\n",
        ">> - ReLU activation.\n",
        ">> - Strided convolution for down-sampling instead of max-pooling layer. <br>\n",
        "     Note. Once down-sampled, a $1\\times1$ convolution/stride 2 is applied to residual for expanding the channel of the residual.\n",
        ">> - No dropout for simplicity.\n",
        ">> - Batch-normalization after every convolution.\n",
        ">>\n",
        ">>\n",
        ">> <table><tr>\n",
        ">> <td> <img src=\"https://docs.google.com/uc?export=download&id=1ZYDfpVBFBvQnVezVcJqRxwh09rUVmxwD\" alt=\"no_image\" style=\"width: 500px;\"/> </td>\n",
        ">> <td> <img src=\"https://docs.google.com/uc?export=download&id=1JNEea1G-5yOKVLmSCkiYAEJ0HXOys0CR\" alt=\"no_image\" style=\"width: 300px;\"/> </td>\n",
        ">> </tr></table>\n",
        ">>\n",
        ">> <img src=\"https://docs.google.com/uc?export=download&id=1vY0ys5KAZmMlOKk8Dcv7eAV8pZ9cawzJ\" alt=\"no_image\" style=\"width: 870px;\"/>\n",
        ">>\n",
        ">> <font size=\"0.5\"> Figures from <br>\n",
        ">> [1] https://www.codeproject.com/Articles/1248963/Deep-Learning-using-Python-plus-Keras-Chapter-Re  <br>\n",
        ">> [2] Rezende et al., *Signal Processing: Image Communication*, 2018. </font>\n",
        ">\n",
        "> 3. **Loss function**\n",
        ">> - Cross-entropy loss between outputs & ground-truths. <br>\n",
        ">\n",
        "> 4. **Training**\n",
        ">> - Default weight initialization for simplicity.\n",
        ">> - SGD optimizer with `learning rate = 1e-2`, `momentum = 0.9`, and `weight_decay = 5e-4`.\n",
        ">> - 15 epochs without learning rate scheduling.\n",
        ">\n",
        "> 5. **Evaluation metric**\n",
        ">> - Classification accuracy (i.e., the percentage of correct predictions).\n",
        ">\n",
        ">"
      ]
    },
    {
      "cell_type": "markdown",
      "metadata": {
        "id": "j-guPbqGj9ae"
      },
      "source": [
        "### 2.1 Implement ResNet50 and train it with the CIFAR 10 dataset [4 points]"
      ]
    },
    {
      "cell_type": "code",
      "execution_count": null,
      "metadata": {
        "id": "21UwX-8Kj9af",
        "colab": {
          "base_uri": "https://localhost:8080/"
        },
        "outputId": "2dc8477c-ac7c-417f-a406-2314a5188218"
      },
      "outputs": [
        {
          "output_type": "stream",
          "name": "stdout",
          "text": [
            "STEP 3: CREATE MODEL CLASS (ResNet-50)\n",
            "STEP 4: INSTANTIATE MODEL CLASS\n",
            "The number of parameters :  23533059\n"
          ]
        },
        {
          "output_type": "execute_result",
          "data": {
            "text/plain": [
              "ResNet(\n",
              "  (init_block): Sequential(\n",
              "    (0): Conv2d(3, 64, kernel_size=(3, 3), stride=(1, 1), padding=(1, 1))\n",
              "    (1): BatchNorm2d(64, eps=1e-05, momentum=0.1, affine=True, track_running_stats=True)\n",
              "    (2): ReLU(inplace=True)\n",
              "  )\n",
              "  (ResBlock1): Sequential(\n",
              "    (0): ResNet_block(\n",
              "      (conv1): Sequential(\n",
              "        (0): Conv2d(64, 64, kernel_size=(1, 1), stride=(1, 1))\n",
              "        (1): BatchNorm2d(64, eps=1e-05, momentum=0.1, affine=True, track_running_stats=True)\n",
              "        (2): ReLU(inplace=True)\n",
              "      )\n",
              "      (conv2): Sequential(\n",
              "        (0): Conv2d(64, 64, kernel_size=(3, 3), stride=(1, 1), padding=same)\n",
              "        (1): BatchNorm2d(64, eps=1e-05, momentum=0.1, affine=True, track_running_stats=True)\n",
              "        (2): ReLU(inplace=True)\n",
              "      )\n",
              "      (conv3): Sequential(\n",
              "        (0): Conv2d(64, 256, kernel_size=(1, 1), stride=(1, 1))\n",
              "        (1): BatchNorm2d(256, eps=1e-05, momentum=0.1, affine=True, track_running_stats=True)\n",
              "        (2): ReLU(inplace=True)\n",
              "      )\n",
              "      (convert_id): Sequential(\n",
              "        (0): Conv2d(64, 256, kernel_size=(1, 1), stride=(1, 1))\n",
              "        (1): BatchNorm2d(256, eps=1e-05, momentum=0.1, affine=True, track_running_stats=True)\n",
              "      )\n",
              "    )\n",
              "    (1): ResNet_block(\n",
              "      (conv1): Sequential(\n",
              "        (0): Conv2d(256, 64, kernel_size=(1, 1), stride=(1, 1))\n",
              "        (1): BatchNorm2d(64, eps=1e-05, momentum=0.1, affine=True, track_running_stats=True)\n",
              "        (2): ReLU(inplace=True)\n",
              "      )\n",
              "      (conv2): Sequential(\n",
              "        (0): Conv2d(64, 64, kernel_size=(3, 3), stride=(1, 1), padding=same)\n",
              "        (1): BatchNorm2d(64, eps=1e-05, momentum=0.1, affine=True, track_running_stats=True)\n",
              "        (2): ReLU(inplace=True)\n",
              "      )\n",
              "      (conv3): Sequential(\n",
              "        (0): Conv2d(64, 256, kernel_size=(1, 1), stride=(1, 1))\n",
              "        (1): BatchNorm2d(256, eps=1e-05, momentum=0.1, affine=True, track_running_stats=True)\n",
              "        (2): ReLU(inplace=True)\n",
              "      )\n",
              "    )\n",
              "    (2): ResNet_block(\n",
              "      (conv1): Sequential(\n",
              "        (0): Conv2d(256, 64, kernel_size=(1, 1), stride=(1, 1))\n",
              "        (1): BatchNorm2d(64, eps=1e-05, momentum=0.1, affine=True, track_running_stats=True)\n",
              "        (2): ReLU(inplace=True)\n",
              "      )\n",
              "      (conv2): Sequential(\n",
              "        (0): Conv2d(64, 64, kernel_size=(3, 3), stride=(1, 1), padding=same)\n",
              "        (1): BatchNorm2d(64, eps=1e-05, momentum=0.1, affine=True, track_running_stats=True)\n",
              "        (2): ReLU(inplace=True)\n",
              "      )\n",
              "      (conv3): Sequential(\n",
              "        (0): Conv2d(64, 256, kernel_size=(1, 1), stride=(1, 1))\n",
              "        (1): BatchNorm2d(256, eps=1e-05, momentum=0.1, affine=True, track_running_stats=True)\n",
              "        (2): ReLU(inplace=True)\n",
              "      )\n",
              "    )\n",
              "  )\n",
              "  (ResBlock2): Sequential(\n",
              "    (0): ResNet_block(\n",
              "      (conv1): Sequential(\n",
              "        (0): Conv2d(256, 128, kernel_size=(1, 1), stride=(2, 2))\n",
              "        (1): BatchNorm2d(128, eps=1e-05, momentum=0.1, affine=True, track_running_stats=True)\n",
              "        (2): ReLU(inplace=True)\n",
              "      )\n",
              "      (conv2): Sequential(\n",
              "        (0): Conv2d(128, 128, kernel_size=(3, 3), stride=(1, 1), padding=same)\n",
              "        (1): BatchNorm2d(128, eps=1e-05, momentum=0.1, affine=True, track_running_stats=True)\n",
              "        (2): ReLU(inplace=True)\n",
              "      )\n",
              "      (conv3): Sequential(\n",
              "        (0): Conv2d(128, 512, kernel_size=(1, 1), stride=(1, 1))\n",
              "        (1): BatchNorm2d(512, eps=1e-05, momentum=0.1, affine=True, track_running_stats=True)\n",
              "        (2): ReLU(inplace=True)\n",
              "      )\n",
              "      (convert_id): Sequential(\n",
              "        (0): Conv2d(256, 512, kernel_size=(1, 1), stride=(2, 2))\n",
              "        (1): BatchNorm2d(512, eps=1e-05, momentum=0.1, affine=True, track_running_stats=True)\n",
              "      )\n",
              "    )\n",
              "    (1): ResNet_block(\n",
              "      (conv1): Sequential(\n",
              "        (0): Conv2d(512, 128, kernel_size=(1, 1), stride=(1, 1))\n",
              "        (1): BatchNorm2d(128, eps=1e-05, momentum=0.1, affine=True, track_running_stats=True)\n",
              "        (2): ReLU(inplace=True)\n",
              "      )\n",
              "      (conv2): Sequential(\n",
              "        (0): Conv2d(128, 128, kernel_size=(3, 3), stride=(1, 1), padding=same)\n",
              "        (1): BatchNorm2d(128, eps=1e-05, momentum=0.1, affine=True, track_running_stats=True)\n",
              "        (2): ReLU(inplace=True)\n",
              "      )\n",
              "      (conv3): Sequential(\n",
              "        (0): Conv2d(128, 512, kernel_size=(1, 1), stride=(1, 1))\n",
              "        (1): BatchNorm2d(512, eps=1e-05, momentum=0.1, affine=True, track_running_stats=True)\n",
              "        (2): ReLU(inplace=True)\n",
              "      )\n",
              "    )\n",
              "    (2): ResNet_block(\n",
              "      (conv1): Sequential(\n",
              "        (0): Conv2d(512, 128, kernel_size=(1, 1), stride=(1, 1))\n",
              "        (1): BatchNorm2d(128, eps=1e-05, momentum=0.1, affine=True, track_running_stats=True)\n",
              "        (2): ReLU(inplace=True)\n",
              "      )\n",
              "      (conv2): Sequential(\n",
              "        (0): Conv2d(128, 128, kernel_size=(3, 3), stride=(1, 1), padding=same)\n",
              "        (1): BatchNorm2d(128, eps=1e-05, momentum=0.1, affine=True, track_running_stats=True)\n",
              "        (2): ReLU(inplace=True)\n",
              "      )\n",
              "      (conv3): Sequential(\n",
              "        (0): Conv2d(128, 512, kernel_size=(1, 1), stride=(1, 1))\n",
              "        (1): BatchNorm2d(512, eps=1e-05, momentum=0.1, affine=True, track_running_stats=True)\n",
              "        (2): ReLU(inplace=True)\n",
              "      )\n",
              "    )\n",
              "    (3): ResNet_block(\n",
              "      (conv1): Sequential(\n",
              "        (0): Conv2d(512, 128, kernel_size=(1, 1), stride=(1, 1))\n",
              "        (1): BatchNorm2d(128, eps=1e-05, momentum=0.1, affine=True, track_running_stats=True)\n",
              "        (2): ReLU(inplace=True)\n",
              "      )\n",
              "      (conv2): Sequential(\n",
              "        (0): Conv2d(128, 128, kernel_size=(3, 3), stride=(1, 1), padding=same)\n",
              "        (1): BatchNorm2d(128, eps=1e-05, momentum=0.1, affine=True, track_running_stats=True)\n",
              "        (2): ReLU(inplace=True)\n",
              "      )\n",
              "      (conv3): Sequential(\n",
              "        (0): Conv2d(128, 512, kernel_size=(1, 1), stride=(1, 1))\n",
              "        (1): BatchNorm2d(512, eps=1e-05, momentum=0.1, affine=True, track_running_stats=True)\n",
              "        (2): ReLU(inplace=True)\n",
              "      )\n",
              "    )\n",
              "  )\n",
              "  (ResBlock3): Sequential(\n",
              "    (0): ResNet_block(\n",
              "      (conv1): Sequential(\n",
              "        (0): Conv2d(512, 256, kernel_size=(1, 1), stride=(2, 2))\n",
              "        (1): BatchNorm2d(256, eps=1e-05, momentum=0.1, affine=True, track_running_stats=True)\n",
              "        (2): ReLU(inplace=True)\n",
              "      )\n",
              "      (conv2): Sequential(\n",
              "        (0): Conv2d(256, 256, kernel_size=(3, 3), stride=(1, 1), padding=same)\n",
              "        (1): BatchNorm2d(256, eps=1e-05, momentum=0.1, affine=True, track_running_stats=True)\n",
              "        (2): ReLU(inplace=True)\n",
              "      )\n",
              "      (conv3): Sequential(\n",
              "        (0): Conv2d(256, 1024, kernel_size=(1, 1), stride=(1, 1))\n",
              "        (1): BatchNorm2d(1024, eps=1e-05, momentum=0.1, affine=True, track_running_stats=True)\n",
              "        (2): ReLU(inplace=True)\n",
              "      )\n",
              "      (convert_id): Sequential(\n",
              "        (0): Conv2d(512, 1024, kernel_size=(1, 1), stride=(2, 2))\n",
              "        (1): BatchNorm2d(1024, eps=1e-05, momentum=0.1, affine=True, track_running_stats=True)\n",
              "      )\n",
              "    )\n",
              "    (1): ResNet_block(\n",
              "      (conv1): Sequential(\n",
              "        (0): Conv2d(1024, 256, kernel_size=(1, 1), stride=(1, 1))\n",
              "        (1): BatchNorm2d(256, eps=1e-05, momentum=0.1, affine=True, track_running_stats=True)\n",
              "        (2): ReLU(inplace=True)\n",
              "      )\n",
              "      (conv2): Sequential(\n",
              "        (0): Conv2d(256, 256, kernel_size=(3, 3), stride=(1, 1), padding=same)\n",
              "        (1): BatchNorm2d(256, eps=1e-05, momentum=0.1, affine=True, track_running_stats=True)\n",
              "        (2): ReLU(inplace=True)\n",
              "      )\n",
              "      (conv3): Sequential(\n",
              "        (0): Conv2d(256, 1024, kernel_size=(1, 1), stride=(1, 1))\n",
              "        (1): BatchNorm2d(1024, eps=1e-05, momentum=0.1, affine=True, track_running_stats=True)\n",
              "        (2): ReLU(inplace=True)\n",
              "      )\n",
              "    )\n",
              "    (2): ResNet_block(\n",
              "      (conv1): Sequential(\n",
              "        (0): Conv2d(1024, 256, kernel_size=(1, 1), stride=(1, 1))\n",
              "        (1): BatchNorm2d(256, eps=1e-05, momentum=0.1, affine=True, track_running_stats=True)\n",
              "        (2): ReLU(inplace=True)\n",
              "      )\n",
              "      (conv2): Sequential(\n",
              "        (0): Conv2d(256, 256, kernel_size=(3, 3), stride=(1, 1), padding=same)\n",
              "        (1): BatchNorm2d(256, eps=1e-05, momentum=0.1, affine=True, track_running_stats=True)\n",
              "        (2): ReLU(inplace=True)\n",
              "      )\n",
              "      (conv3): Sequential(\n",
              "        (0): Conv2d(256, 1024, kernel_size=(1, 1), stride=(1, 1))\n",
              "        (1): BatchNorm2d(1024, eps=1e-05, momentum=0.1, affine=True, track_running_stats=True)\n",
              "        (2): ReLU(inplace=True)\n",
              "      )\n",
              "    )\n",
              "    (3): ResNet_block(\n",
              "      (conv1): Sequential(\n",
              "        (0): Conv2d(1024, 256, kernel_size=(1, 1), stride=(1, 1))\n",
              "        (1): BatchNorm2d(256, eps=1e-05, momentum=0.1, affine=True, track_running_stats=True)\n",
              "        (2): ReLU(inplace=True)\n",
              "      )\n",
              "      (conv2): Sequential(\n",
              "        (0): Conv2d(256, 256, kernel_size=(3, 3), stride=(1, 1), padding=same)\n",
              "        (1): BatchNorm2d(256, eps=1e-05, momentum=0.1, affine=True, track_running_stats=True)\n",
              "        (2): ReLU(inplace=True)\n",
              "      )\n",
              "      (conv3): Sequential(\n",
              "        (0): Conv2d(256, 1024, kernel_size=(1, 1), stride=(1, 1))\n",
              "        (1): BatchNorm2d(1024, eps=1e-05, momentum=0.1, affine=True, track_running_stats=True)\n",
              "        (2): ReLU(inplace=True)\n",
              "      )\n",
              "    )\n",
              "    (4): ResNet_block(\n",
              "      (conv1): Sequential(\n",
              "        (0): Conv2d(1024, 256, kernel_size=(1, 1), stride=(1, 1))\n",
              "        (1): BatchNorm2d(256, eps=1e-05, momentum=0.1, affine=True, track_running_stats=True)\n",
              "        (2): ReLU(inplace=True)\n",
              "      )\n",
              "      (conv2): Sequential(\n",
              "        (0): Conv2d(256, 256, kernel_size=(3, 3), stride=(1, 1), padding=same)\n",
              "        (1): BatchNorm2d(256, eps=1e-05, momentum=0.1, affine=True, track_running_stats=True)\n",
              "        (2): ReLU(inplace=True)\n",
              "      )\n",
              "      (conv3): Sequential(\n",
              "        (0): Conv2d(256, 1024, kernel_size=(1, 1), stride=(1, 1))\n",
              "        (1): BatchNorm2d(1024, eps=1e-05, momentum=0.1, affine=True, track_running_stats=True)\n",
              "        (2): ReLU(inplace=True)\n",
              "      )\n",
              "    )\n",
              "    (5): ResNet_block(\n",
              "      (conv1): Sequential(\n",
              "        (0): Conv2d(1024, 256, kernel_size=(1, 1), stride=(1, 1))\n",
              "        (1): BatchNorm2d(256, eps=1e-05, momentum=0.1, affine=True, track_running_stats=True)\n",
              "        (2): ReLU(inplace=True)\n",
              "      )\n",
              "      (conv2): Sequential(\n",
              "        (0): Conv2d(256, 256, kernel_size=(3, 3), stride=(1, 1), padding=same)\n",
              "        (1): BatchNorm2d(256, eps=1e-05, momentum=0.1, affine=True, track_running_stats=True)\n",
              "        (2): ReLU(inplace=True)\n",
              "      )\n",
              "      (conv3): Sequential(\n",
              "        (0): Conv2d(256, 1024, kernel_size=(1, 1), stride=(1, 1))\n",
              "        (1): BatchNorm2d(1024, eps=1e-05, momentum=0.1, affine=True, track_running_stats=True)\n",
              "        (2): ReLU(inplace=True)\n",
              "      )\n",
              "    )\n",
              "  )\n",
              "  (ResBlock4): Sequential(\n",
              "    (0): ResNet_block(\n",
              "      (conv1): Sequential(\n",
              "        (0): Conv2d(1024, 512, kernel_size=(1, 1), stride=(2, 2))\n",
              "        (1): BatchNorm2d(512, eps=1e-05, momentum=0.1, affine=True, track_running_stats=True)\n",
              "        (2): ReLU(inplace=True)\n",
              "      )\n",
              "      (conv2): Sequential(\n",
              "        (0): Conv2d(512, 512, kernel_size=(3, 3), stride=(1, 1), padding=same)\n",
              "        (1): BatchNorm2d(512, eps=1e-05, momentum=0.1, affine=True, track_running_stats=True)\n",
              "        (2): ReLU(inplace=True)\n",
              "      )\n",
              "      (conv3): Sequential(\n",
              "        (0): Conv2d(512, 2048, kernel_size=(1, 1), stride=(1, 1))\n",
              "        (1): BatchNorm2d(2048, eps=1e-05, momentum=0.1, affine=True, track_running_stats=True)\n",
              "        (2): ReLU(inplace=True)\n",
              "      )\n",
              "      (convert_id): Sequential(\n",
              "        (0): Conv2d(1024, 2048, kernel_size=(1, 1), stride=(2, 2))\n",
              "        (1): BatchNorm2d(2048, eps=1e-05, momentum=0.1, affine=True, track_running_stats=True)\n",
              "      )\n",
              "    )\n",
              "    (1): ResNet_block(\n",
              "      (conv1): Sequential(\n",
              "        (0): Conv2d(2048, 512, kernel_size=(1, 1), stride=(1, 1))\n",
              "        (1): BatchNorm2d(512, eps=1e-05, momentum=0.1, affine=True, track_running_stats=True)\n",
              "        (2): ReLU(inplace=True)\n",
              "      )\n",
              "      (conv2): Sequential(\n",
              "        (0): Conv2d(512, 512, kernel_size=(3, 3), stride=(1, 1), padding=same)\n",
              "        (1): BatchNorm2d(512, eps=1e-05, momentum=0.1, affine=True, track_running_stats=True)\n",
              "        (2): ReLU(inplace=True)\n",
              "      )\n",
              "      (conv3): Sequential(\n",
              "        (0): Conv2d(512, 2048, kernel_size=(1, 1), stride=(1, 1))\n",
              "        (1): BatchNorm2d(2048, eps=1e-05, momentum=0.1, affine=True, track_running_stats=True)\n",
              "        (2): ReLU(inplace=True)\n",
              "      )\n",
              "    )\n",
              "    (2): ResNet_block(\n",
              "      (conv1): Sequential(\n",
              "        (0): Conv2d(2048, 512, kernel_size=(1, 1), stride=(1, 1))\n",
              "        (1): BatchNorm2d(512, eps=1e-05, momentum=0.1, affine=True, track_running_stats=True)\n",
              "        (2): ReLU(inplace=True)\n",
              "      )\n",
              "      (conv2): Sequential(\n",
              "        (0): Conv2d(512, 512, kernel_size=(3, 3), stride=(1, 1), padding=same)\n",
              "        (1): BatchNorm2d(512, eps=1e-05, momentum=0.1, affine=True, track_running_stats=True)\n",
              "        (2): ReLU(inplace=True)\n",
              "      )\n",
              "      (conv3): Sequential(\n",
              "        (0): Conv2d(512, 2048, kernel_size=(1, 1), stride=(1, 1))\n",
              "        (1): BatchNorm2d(2048, eps=1e-05, momentum=0.1, affine=True, track_running_stats=True)\n",
              "        (2): ReLU(inplace=True)\n",
              "      )\n",
              "    )\n",
              "  )\n",
              "  (avgpool): AdaptiveAvgPool2d(output_size=(1, 1))\n",
              "  (classifier): Linear(in_features=2048, out_features=3, bias=True)\n",
              ")"
            ]
          },
          "metadata": {},
          "execution_count": 32
        }
      ],
      "source": [
        "print('STEP 3: CREATE MODEL CLASS (ResNet-50)')\n",
        "\n",
        "cfg = [3,4,6,3]\n",
        "\n",
        "class ResNet_block(nn.Module):\n",
        "    def __init__(self, in_c, intra_c, out_c, down_sample = False, expand = False):\n",
        "        super(ResNet_block, self).__init__()\n",
        "\n",
        "        if down_sample:\n",
        "          stride=2\n",
        "        else:\n",
        "          stride=1\n",
        "        self.down_sample = down_sample\n",
        "        self.expand = expand\n",
        "        self.conv1 = nn.Sequential(\n",
        "            nn.Conv2d(in_c,intra_c,kernel_size=1,stride=stride),\n",
        "            nn.BatchNorm2d(intra_c),\n",
        "            nn.ReLU(inplace=True)\n",
        "        )\n",
        "        self.conv2 = nn.Sequential(\n",
        "            nn.Conv2d(intra_c,intra_c,kernel_size=3,padding='same'),\n",
        "            nn.BatchNorm2d(intra_c),\n",
        "            nn.ReLU(inplace=True)\n",
        "        )\n",
        "        self.conv3 = nn.Sequential(\n",
        "            nn.Conv2d(intra_c,out_c,kernel_size=1),\n",
        "            nn.BatchNorm2d(out_c),\n",
        "            nn.ReLU(inplace=True)\n",
        "        )\n",
        "\n",
        "        if self.down_sample or self.expand:\n",
        "          self.convert_id = nn.Sequential(\n",
        "              nn.Conv2d(in_c,out_c,kernel_size=1,stride=stride),\n",
        "              nn.BatchNorm2d(out_c)\n",
        "          )\n",
        "        else:\n",
        "          self.convert_id = None\n",
        "\n",
        "#############\n",
        "# CODE HERE #\n",
        "#############\n",
        "\n",
        "    def forward(self, x):\n",
        "        identity = x\n",
        "        out = self.conv1(x)\n",
        "        out = self.conv2(out)\n",
        "        out = self.conv3(out)\n",
        "        if self.down_sample or self.expand:\n",
        "            identity = self.convert_id(x)\n",
        "        out = F.relu(out + identity)\n",
        "        return out\n",
        "\n",
        "class ResNet(nn.Module):\n",
        "    def __init__(self):\n",
        "        super(ResNet, self).__init__()\n",
        "        self.init_block = nn.Sequential(\n",
        "            nn.Conv2d(3, 64, 3, 1, 1),\n",
        "            nn.BatchNorm2d(64),\n",
        "            nn.ReLU(inplace=True)\n",
        "        )\n",
        "        self.ResBlock1 = self._make_layers(64,64,256,cfg[0],False)\n",
        "        self.ResBlock2 = self._make_layers(256,128,512,cfg[1],True)\n",
        "        self.ResBlock3 = self._make_layers(512,256,1024,cfg[2],True)\n",
        "        self.ResBlock4 = self._make_layers(1024,512,2048,cfg[3],True)\n",
        "\n",
        "        self.avgpool = nn.AvgPool2d((1,1))\n",
        "        self.classifier = nn.Linear(2048,3)\n",
        "\n",
        "#############\n",
        "# CODE HERE #\n",
        "#############\n",
        "\n",
        "\n",
        "    def forward(self, x):\n",
        "        out = self.init_block(x)\n",
        "        out = self.ResBlock1(out)\n",
        "        out = self.ResBlock2(out)\n",
        "        out = self.ResBlock3(out)\n",
        "        out = self.ResBlock4(out)\n",
        "        out = self.avgpool(out)\n",
        "        out= out.view(out.size(0), -1)\n",
        "        out = self.classifier(out)\n",
        "\n",
        "        return out\n",
        "\n",
        "    def _make_layers(self, in_c, intra_c, out_c, num_block, down_sample):\n",
        "        layers = []\n",
        "        # first block\n",
        "        layers.append(ResNet_block(in_c = in_c, intra_c = intra_c, out_c = out_c, down_sample = down_sample,expand = True ))\n",
        "        # intermediate blocks\n",
        "        for _ in range(num_block - 1):\n",
        "            layers.append(ResNet_block(in_c = out_c, intra_c = intra_c, out_c = out_c, down_sample = False,expand=False))\n",
        "\n",
        "        return nn.Sequential(*layers)\n",
        "\n",
        "\n",
        "print('STEP 4: INSTANTIATE MODEL CLASS')\n",
        "#############\n",
        "# CODE HERE #\n",
        "#############\n",
        "model = ResNet()\n",
        "num_total_params = sum(p.numel() for p in model.parameters())\n",
        "print(\"The number of parameters : \", num_total_params)\n",
        "#######################\n",
        "#  USE GPU FOR MODEL  #\n",
        "#######################\n",
        "\n",
        "device = torch.device(\"cuda:0\" if torch.cuda.is_available() else \"cpu\")\n",
        "model.to(device)\n"
      ]
    },
    {
      "cell_type": "markdown",
      "metadata": {
        "id": "PTFU8J5Uj9aj"
      },
      "source": [
        "### 2.2 Print test accuracy for every epochs. [1 points]"
      ]
    },
    {
      "cell_type": "code",
      "execution_count": null,
      "metadata": {
        "colab": {
          "base_uri": "https://localhost:8080/"
        },
        "id": "ydsAXR-qj9ak",
        "outputId": "626601ae-5a21-4b86-e6e2-5e5af896305d"
      },
      "outputs": [
        {
          "output_type": "stream",
          "name": "stdout",
          "text": [
            "STEP 5: INSTANTIATE LOSS CLASS\n",
            "STEP 6: INSTANTIATE OPTIMIZER CLASS\n",
            "STEP 7: TRAIN THE MODEL\n",
            "Epochs: 0. Loss: 0.9087908267974854. Accuracy: 68.3\n",
            "Epochs: 1. Loss: 0.39463844895362854. Accuracy: 77.03333333333333\n",
            "Epochs: 2. Loss: 1.2880409955978394. Accuracy: 76.7\n",
            "Epochs: 3. Loss: 0.570041835308075. Accuracy: 77.96666666666667\n",
            "Epochs: 4. Loss: 0.4659169912338257. Accuracy: 81.2\n",
            "Epochs: 5. Loss: 0.4927544593811035. Accuracy: 81.83333333333333\n",
            "Epochs: 6. Loss: 0.2590882480144501. Accuracy: 84.8\n",
            "Epochs: 7. Loss: 0.14439110457897186. Accuracy: 84.83333333333333\n",
            "Epochs: 8. Loss: 0.3407084047794342. Accuracy: 81.93333333333334\n",
            "Epochs: 9. Loss: 0.47099757194519043. Accuracy: 83.4\n",
            "Epochs: 10. Loss: 0.21006689965724945. Accuracy: 84.63333333333334\n",
            "Epochs: 11. Loss: 0.2844659388065338. Accuracy: 86.7\n",
            "Epochs: 12. Loss: 0.5474438071250916. Accuracy: 84.86666666666666\n",
            "Epochs: 13. Loss: 0.3179830014705658. Accuracy: 85.86666666666666\n",
            "Epochs: 14. Loss: 0.2710387110710144. Accuracy: 83.43333333333334\n"
          ]
        }
      ],
      "source": [
        "print('STEP 5: INSTANTIATE LOSS CLASS')\n",
        "#############\n",
        "# CODE HERE #\n",
        "#############\n",
        "criterion = nn.CrossEntropyLoss()\n",
        "print('STEP 6: INSTANTIATE OPTIMIZER CLASS')\n",
        "#############\n",
        "# CODE HERE #\n",
        "#############\n",
        "learning_rate = 1e-2\n",
        "momentum = 0.9\n",
        "weight_decay = 5e-4\n",
        "\n",
        "optimizer = torch.optim.SGD(model.parameters(), lr=learning_rate, momentum = momentum, weight_decay = weight_decay)\n",
        "\n",
        "print('STEP 7: TRAIN THE MODEL')\n",
        "num_epochs = 15\n",
        "\n",
        "#############\n",
        "# CODE HERE #\n",
        "#############\n",
        "iter = 0\n",
        "for epoch in range(num_epochs):\n",
        "    for i, (images, labels) in enumerate(train_loader):\n",
        "        # Load images with gradient accumulation capabilities\n",
        "\n",
        "        images = images.to(device)\n",
        "        labels = labels.to(device)\n",
        "        # Clear gradients w.r.t. parameters\n",
        "        optimizer.zero_grad()\n",
        "\n",
        "        # Forward pass to get output/logits\n",
        "        outputs = model(images)\n",
        "\n",
        "        # Calculate Loss: softmax --> cross entropy loss\n",
        "        loss = criterion(outputs, labels)\n",
        "\n",
        "        # Getting gradients w.r.t. parameters\n",
        "        loss.backward()\n",
        "\n",
        "        # Updating parameters\n",
        "        optimizer.step()\n",
        "\n",
        "\n",
        "\n",
        "\n",
        "    # Calculate Accuracy\n",
        "    correct = 0\n",
        "    total = 0\n",
        "    # Iterate through test dataset\n",
        "    for images, labels in test_loader:\n",
        "        # Load images with gradient accumulation capabilities\n",
        "        images = images.to(device)\n",
        "        labels = labels.to(device)\n",
        "\n",
        "        # Forward pass only to get logits/output\n",
        "        outputs = model(images)\n",
        "\n",
        "        # Get predictions from the maximum value\n",
        "        _, predicted = torch.max(outputs.data, 1)\n",
        "\n",
        "        # Total number of labels\n",
        "        total += labels.size(0)\n",
        "\n",
        "        # Total correct predictions\n",
        "        correct += (predicted == labels).sum()\n",
        "\n",
        "    accuracy = 100 * correct.item() / total\n",
        "\n",
        "        # Print Loss\n",
        "    print('Epochs: {}. Loss: {}. Accuracy: {}'.format(epoch, loss.item(), accuracy))"
      ]
    },
    {
      "cell_type": "code",
      "execution_count": null,
      "metadata": {
        "id": "6Of0nAFXj9an"
      },
      "outputs": [],
      "source": []
    }
  ],
  "metadata": {
    "accelerator": "GPU",
    "colab": {
      "provenance": [],
      "gpuType": "T4"
    },
    "kernelspec": {
      "display_name": "Python 3",
      "name": "python3"
    },
    "language_info": {
      "codemirror_mode": {
        "name": "ipython",
        "version": 3
      },
      "file_extension": ".py",
      "mimetype": "text/x-python",
      "name": "python",
      "nbconvert_exporter": "python",
      "pygments_lexer": "ipython3",
      "version": "3.6.8"
    }
  },
  "nbformat": 4,
  "nbformat_minor": 0
}